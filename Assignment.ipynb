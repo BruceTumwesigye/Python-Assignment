{
  "nbformat": 4,
  "nbformat_minor": 0,
  "metadata": {
    "colab": {
      "provenance": [],
      "authorship_tag": "ABX9TyP6hZ3zQyRtMg92/mX5E5uU",
      "include_colab_link": true
    },
    "kernelspec": {
      "name": "python3",
      "display_name": "Python 3"
    },
    "language_info": {
      "name": "python"
    }
  },
  "cells": [
    {
      "cell_type": "markdown",
      "metadata": {
        "id": "view-in-github",
        "colab_type": "text"
      },
      "source": [
        "<a href=\"https://colab.research.google.com/github/BruceTumwesigye/Python-Assignment/blob/main/Assignment.ipynb\" target=\"_parent\"><img src=\"https://colab.research.google.com/assets/colab-badge.svg\" alt=\"Open In Colab\"/></a>"
      ]
    },
    {
      "cell_type": "code",
      "source": [
        "import requests\n",
        "from bs4 import BeautifulSoup\n",
        "import pandas as pd\n",
        "import matplotlib.pyplot as plt\n",
        "url = \"https://bbc.com/news/world-asia-india-67610621\"\n",
        "response = requests.get(url)\n",
        "soup = BeautifulSoup(response.text, 'html.parser')\n",
        "for element in soup(['script', 'style', 'comment']):\n",
        "    element.extract()\n",
        "    text = soup.get_text(separator=' ')\n",
        "print(text)"
      ],
      "metadata": {
        "colab": {
          "base_uri": "https://localhost:8080/"
        },
        "id": "XlFnXF6UEia8",
        "outputId": "b2ef29b9-78d0-4062-b467-dca5d29eb712"
      },
      "execution_count": null,
      "outputs": [
        {
          "output_type": "stream",
          "name": "stdout",
          "text": [
            "COP28: Should India and China benefit from a climate damage fund? Home News Sport Business Innovation Culture Travel Earth Video Live Home News Sport Business Innovation Culture Travel Earth Video Live Home News Sport Business Innovation Culture Travel Earth Video Live COP28: Should India and China benefit from a climate damage fund? By Navin Singh Khadka Environment correspondent, BBC World Service EPA Smog over Delhi last month China is the top emitter of greenhouse gases in the world, while India comes in at number three. The two countries also have major economies - so why is there a disagreement over whether they should contribute to a fund to tackle the damage caused by climate change? The question remains even after COP28 - this year's United Nations (UN) climate change conference in Dubai - announced a deal between countries to begin the operation of the fund and 18 countries pledged money for it. A report released in 2022 by the Vulnerable 20 Group (V20), which has 68 developing nations as its members, showed that 55 members (the rest joined recently) had lost $525bn (£414.2bn) because of climate change over the last two decades. This was one-fifth of their wealth. China and India are not among these countries but argue that they too have vulnerable communities which will need financial support from such a fund. A 2022 UN report said that by 2030, developing countries would need over $300bn annually to fight climate change. \"Loss and damage finance needs are closely connected to our ability to mitigate and adapt to climate change,\" it added.  What is the loss and damage fund? The fund aims to provide financial assistance to poorer nations that have been hit by climate-related disasters - for example, communities displaced by floods or rising sea levels - so that they can rebuild and be rehabilitated. It is different from climate adaptation funds because loss and damage refer to a situation in which communities can no longer adapt to climatic impacts or prepare for it because the damage has already been done. Getty Images The COP28 is aiming for a consensus on global measures to mitigate the effects of climate change After years of disagreement between developed and developing countries, the loss and damage fund was established in principle during last year's COP27 in Egypt. The agreement is to begin its operation at COP28. Fifteen developed countries and a developing nation (COP28 host UAE) have made funding pledges totalling to around $660m so far, according to the Natural Resources Defence Council that has been tracking financial pledges at COP28. Who should pay for it? The US - a developed country and the second largest greenhouse gas emitter in the world - and other developed nations say China and India should join them in not only making significant cuts in emissions for meaningful global climate action, but also contribute to the fund. But China and India disagree, arguing their high levels of emissions are a recent development when compared to the historic emissions of developed countries like the US and the UK. They also claim they are still developing countries, as set out in the UN Framework Convention on Climate Change signed in 1992, and therefore actually qualify to receive the loss and damage fund they are being asked to contribute to. China’s summer of climate destruction In the year since COP27, counties have had heated debates about how to make the fund work, and finally in October 2023 agreed on a set of recommendations. The recommendations, now approved by COP28, \"urge\" developed countries to support the loss and damage fund, and \"encourage\" others to support it voluntarily. The decision also makes it clear that all developing countries are eligible to apply for funding. Getty Images Pollution pods at COP28 simulate air pollution levels from Beijing, London and Delhi But negotiators say the decision has not ended tensions between developed countries and major developing economies like China and India over whether the latter should pay for the fund or they should receive it. \"The sources of finance remain a major contentious issue that has been parked for now,\" said a negotiator, from a country in the West, who asked not to be named. Who should get it? China overtook the US as the largest carbon dioxide (CO2) emitter in 2006. But both China and India argue the climate crisis was caused by developed countries emitting greenhouse gases from as early as the 1850s, when the industrial period began. The two Asian giants also point to the principle of \"common but differentiated responsibilities\" in the United Nations Framework Convention on Climate Change (UNFCCC), which basically means all countries have responsibility to cut greenhouse gas emissions, but their share of responsibility depends on their development needs. Many civil societies and climate campaigners have also supported that same argument. \"The massive losses and damages we are seeing right now are the result of 30 years of largely foot-dragging by developed countries on reducing their emissions faster and providing climate finance to developing countries,\" says Liane Schalatek, associate director at Heinrich Boll Stiftung, a US-based international organisation that closely follows loss and damage negotiations. \"To ask developing countries to contribute to the new fund on an equal footing with developed countries is morally wrong and disingenuous,\" she argued. Developed countries, however, argue the grouping of countries is outdated and needs revising. Countries were labelled as developed and developing back in 1992. Critics say a lot has changed since then, particularly with countries like China and India which are now both major economies and among the top greenhouse gas emitters. And now with the UAE, a developing country in the UNFCCC listing, having pledged $100m for the fund, they say an example has been set. Getty Images China and India argue that they too have climatically vulnerable communities who will need financial support from such a fund \"We hope not just China and India but also other countries like Saudi Arabia - developing countries according to the 1992 list - will see themselves more as contributors to the fund than recipients,\" an anonymous negotiator from a Western country added. Some small island states also echoed that message. 'Moral responsibility' Michai Robertson, lead loss and damage finance negotiator for the Alliance of Small Island States, argues there's a \"moral responsibility to engage with the fund\" that needs to be met by major economies such as China and India. \"Having the words 'encourage other parties to provide fund' in the recommendation is an acknowledgement by the entire committee (including developed and developing countries) that we need beyond developed countries as well and other parties to be involved too.\" Where does India stand with its climate pledges? But it is not the first time a climate fund has taken a long time to be established. A policy and advocacy officer I spoke to likens the debate over the loss and damage climate fund to a previous climate finance pledge that still hasn't materialised. \"It is unsurprising that many developing countries view this as little more than a delaying tactic, given the decade-long trust deficit which lies at the heart of UN climate negotiations,\" says Ross Fitzpatrick of Christian Aid, a poverty relief organisation. \"The trust deficit is best exemplified by the failure of wealthy nations to deliver on their previous pledge to provide $100bn in annual climate finance beginning in 2020.\" This $100bn climate finance pledge is separate from the loss and damage climate fund, and was made by developed countries during the climate summit in Copenhagen in 2009. As long as that pledge remains unfulfilled, major developing countries will always have an argument for not making any contribution to the loss and damage climate fund, says Aarti Khosla, the director of Climate Trends, a Delhi-based organisation that researches loss and damage negotiations and other climate issues. \"The principles of the convention (the 1992 UN climate convention) make a case for evolving responsibilities, meaning the definition of the 'common but differentiated responsibilities' also changes,\" she says. \"But it is not simple for China and India to pay in the fund without the developed world having lived up to its previous promise.\" BBC News India is now on YouTube.  Click here  to subscribe and watch our documentaries, explainers and features. Read more India stories from the BBC: India state wins boost Modi re-election bid The Indian siblings taking the chess world by storm Oreo fritters to teacup pizza: Indian street food gets trendy What US agents knew before a Sikh separatist was killed How 'rat-hole' miners freed Indian tunnel workers Asia United Arab Emirates COP28 United Nations Climate India Related Pakistan's teetering economy is crushing millions 6 hrs ago Asia Indonesia volcano eruptions halt search for hikers 9 hrs ago Asia Couple's property ordeal captivates Chinese internet 16 hrs ago China More 9 hrs ago Cyclonic storm batters India's southern coast Thousands are evacuated and cars are swept away in southern India as Cyclone Michaung approaches. 9 hrs ago Asia 11 hrs ago Is the decline of oil in sight? The International Energy Agency thinks peak oil use is in sight this decade as the world switches to renewables. What is driving this shift – and what is still standing in the way? 11 hrs ago Future 12 hrs ago 'Protecting the Earth is a religious duty' How teachings in Islam, Hinduism and Sikhism have made some British Asians more conscious about climate change. 12 hrs ago Newsbeat 14 hrs ago Native Americans are reclaiming energy For decades, Native Americans were reliant on the US government to bring them power. Now, that may be changing. 14 hrs ago Future 14 hrs ago Head of UN talks hits back in climate science row The head of the UN climate talks in Dubai says \"everything\" he is doing is centred on science. 14 hrs ago Science & Environment Home News Sport Business Innovation Culture Travel Earth Video Live BBC Shop BBC in other languages Terms of Use About the BBC Privacy Policy Cookies Accessibility Help Contact the BBC Advertise with us AdChoices/ Do Not Sell My Info Copyright 2023 BBC. All rights reserved.    The  BBC  is  not responsible for the content of external sites.   Read about our approach to external linking. Beta Terms  By using the Beta Site, you agree that such use is at your own risk and you know that the Beta Site may include known or unknown bugs or errors, that we have no obligation to make this Beta Site available with or without charge for any period of time, nor to make it available at all, and that nothing in these Beta Terms or your use of the Beta Site creates any employment relationship between you and us. The Beta Site is provided on an “as is” and “as available” basis and we make no warranty to you of any kind, express or implied. In case of conflict between these Beta Terms and the BBC Terms of Use these Beta Terms shall prevail. Home News News Israel-Gaza War War in Ukraine World Africa Asia Australia Europe Latin America Middle East US & Canada UK UK England N. Ireland Scotland Wales In Pictures BBC Verify Sport Business Business Future of Business Technology of Business Work Culture Market Data Innovation Innovation Technology Science & Health Artificial Intelligence Culture Culture Film & TV Music Art & Design Style Books Entertainment News Travel Travel Destinations World’s Table Culture & Experiences Adventures The SpeciaList Earth Earth Natural Wonders Weather & Science Climate Solutions Sustainable Business Green Living Video Live Live Live News Live Sport Audio\n"
          ]
        }
      ]
    },
    {
      "cell_type": "code",
      "source": [
        "pip install requests beautifulsoup4 requests-html\n"
      ],
      "metadata": {
        "colab": {
          "base_uri": "https://localhost:8080/"
        },
        "id": "X7Lxo-mDIWAT",
        "outputId": "8c3ce83a-6899-4045-f529-68027eaf342f"
      },
      "execution_count": null,
      "outputs": [
        {
          "output_type": "stream",
          "name": "stdout",
          "text": [
            "Requirement already satisfied: requests in /usr/local/lib/python3.10/dist-packages (2.31.0)\n",
            "Requirement already satisfied: beautifulsoup4 in /usr/local/lib/python3.10/dist-packages (4.11.2)\n",
            "Requirement already satisfied: requests-html in /usr/local/lib/python3.10/dist-packages (0.10.0)\n",
            "Requirement already satisfied: charset-normalizer<4,>=2 in /usr/local/lib/python3.10/dist-packages (from requests) (3.3.2)\n",
            "Requirement already satisfied: idna<4,>=2.5 in /usr/local/lib/python3.10/dist-packages (from requests) (3.6)\n",
            "Requirement already satisfied: urllib3<3,>=1.21.1 in /usr/local/lib/python3.10/dist-packages (from requests) (1.26.18)\n",
            "Requirement already satisfied: certifi>=2017.4.17 in /usr/local/lib/python3.10/dist-packages (from requests) (2023.11.17)\n",
            "Requirement already satisfied: soupsieve>1.2 in /usr/local/lib/python3.10/dist-packages (from beautifulsoup4) (2.5)\n",
            "Requirement already satisfied: pyquery in /usr/local/lib/python3.10/dist-packages (from requests-html) (2.0.0)\n",
            "Requirement already satisfied: fake-useragent in /usr/local/lib/python3.10/dist-packages (from requests-html) (1.4.0)\n",
            "Requirement already satisfied: parse in /usr/local/lib/python3.10/dist-packages (from requests-html) (1.20.0)\n",
            "Requirement already satisfied: bs4 in /usr/local/lib/python3.10/dist-packages (from requests-html) (0.0.1)\n",
            "Requirement already satisfied: w3lib in /usr/local/lib/python3.10/dist-packages (from requests-html) (2.1.2)\n",
            "Requirement already satisfied: pyppeteer>=0.0.14 in /usr/local/lib/python3.10/dist-packages (from requests-html) (1.0.2)\n",
            "Requirement already satisfied: appdirs<2.0.0,>=1.4.3 in /usr/local/lib/python3.10/dist-packages (from pyppeteer>=0.0.14->requests-html) (1.4.4)\n",
            "Requirement already satisfied: importlib-metadata>=1.4 in /usr/local/lib/python3.10/dist-packages (from pyppeteer>=0.0.14->requests-html) (6.8.0)\n",
            "Requirement already satisfied: pyee<9.0.0,>=8.1.0 in /usr/local/lib/python3.10/dist-packages (from pyppeteer>=0.0.14->requests-html) (8.2.2)\n",
            "Requirement already satisfied: tqdm<5.0.0,>=4.42.1 in /usr/local/lib/python3.10/dist-packages (from pyppeteer>=0.0.14->requests-html) (4.66.1)\n",
            "Requirement already satisfied: websockets<11.0,>=10.0 in /usr/local/lib/python3.10/dist-packages (from pyppeteer>=0.0.14->requests-html) (10.4)\n",
            "Requirement already satisfied: lxml>=2.1 in /usr/local/lib/python3.10/dist-packages (from pyquery->requests-html) (4.9.3)\n",
            "Requirement already satisfied: cssselect>=1.2.0 in /usr/local/lib/python3.10/dist-packages (from pyquery->requests-html) (1.2.0)\n",
            "Requirement already satisfied: zipp>=0.5 in /usr/local/lib/python3.10/dist-packages (from importlib-metadata>=1.4->pyppeteer>=0.0.14->requests-html) (3.17.0)\n"
          ]
        }
      ]
    },
    {
      "cell_type": "code",
      "source": [
        "import pandas as pd\n",
        "from urllib.parse import urlparse\n",
        "import numpy as np\n",
        "import nltk.data\n",
        "from requests_html import HTMLSession"
      ],
      "metadata": {
        "id": "Y2UQeDDDI5kW"
      },
      "execution_count": null,
      "outputs": []
    },
    {
      "cell_type": "code",
      "source": [
        "def parse_elements(url,element):\n",
        "    session = HTMLSession()\n",
        "    r = session.get(url)\n",
        "    elements = r.html.find(element)\n",
        "    return elements"
      ],
      "metadata": {
        "id": "A7P07TWdJB7D"
      },
      "execution_count": null,
      "outputs": []
    },
    {
      "cell_type": "code",
      "source": [
        "url = 'https://bbc.com/news/world-asia-india-67610621'"
      ],
      "metadata": {
        "id": "1mDNtrltJJTC"
      },
      "execution_count": null,
      "outputs": []
    },
    {
      "cell_type": "code",
      "source": [
        "paragraphs = parse_elements(url, 'p')\n",
        "links = parse_elements(url, 'a')"
      ],
      "metadata": {
        "id": "GnWeL5jqJfs1"
      },
      "execution_count": null,
      "outputs": []
    },
    {
      "cell_type": "code",
      "source": [
        "(paragraphs[15]).text"
      ],
      "metadata": {
        "colab": {
          "base_uri": "https://localhost:8080/",
          "height": 35
        },
        "id": "QIOfuXrTJpQE",
        "outputId": "2e69f276-ce92-4d88-e09d-fc069f87c6af"
      },
      "execution_count": null,
      "outputs": [
        {
          "output_type": "execute_result",
          "data": {
            "text/plain": [
              "'The decision also makes it clear that all developing countries are eligible to apply for funding.'"
            ],
            "application/vnd.google.colaboratory.intrinsic+json": {
              "type": "string"
            }
          },
          "metadata": {},
          "execution_count": 7
        }
      ]
    },
    {
      "cell_type": "code",
      "source": [
        "(links[0]).attrs['href']"
      ],
      "metadata": {
        "colab": {
          "base_uri": "https://localhost:8080/",
          "height": 35
        },
        "id": "VPaYY1O-JyhH",
        "outputId": "3656c4bd-121f-4d42-b393-002fb56b5fac"
      },
      "execution_count": null,
      "outputs": [
        {
          "output_type": "execute_result",
          "data": {
            "text/plain": [
              "'/'"
            ],
            "application/vnd.google.colaboratory.intrinsic+json": {
              "type": "string"
            }
          },
          "metadata": {},
          "execution_count": 8
        }
      ]
    },
    {
      "cell_type": "code",
      "source": [
        "set1 = {'a','a','b',5,10}\n",
        "set1"
      ],
      "metadata": {
        "colab": {
          "base_uri": "https://localhost:8080/"
        },
        "id": "eNojDIUXJ7PW",
        "outputId": "b99da012-3e24-4a1f-a9be-7e7a035d656b"
      },
      "execution_count": null,
      "outputs": [
        {
          "output_type": "execute_result",
          "data": {
            "text/plain": [
              "{10, 5, 'a', 'b'}"
            ]
          },
          "metadata": {},
          "execution_count": 9
        }
      ]
    },
    {
      "cell_type": "code",
      "source": [
        "len(links)"
      ],
      "metadata": {
        "colab": {
          "base_uri": "https://localhost:8080/"
        },
        "id": "GRfB2C4XKHTB",
        "outputId": "6918f8d6-9798-47c1-ac5f-60c6a5a08467"
      },
      "execution_count": null,
      "outputs": [
        {
          "output_type": "execute_result",
          "data": {
            "text/plain": [
              "126"
            ]
          },
          "metadata": {},
          "execution_count": 10
        }
      ]
    },
    {
      "cell_type": "code",
      "source": [
        "links_set = set()\n",
        "for link in links:\n",
        "  links_set.add(link.attrs['href'])\n",
        "len(links_set)"
      ],
      "metadata": {
        "colab": {
          "base_uri": "https://localhost:8080/"
        },
        "id": "84wT7tK6Kgot",
        "outputId": "e9a94d8e-0a20-432b-f2f9-40a64a826abd"
      },
      "execution_count": null,
      "outputs": [
        {
          "output_type": "execute_result",
          "data": {
            "text/plain": [
              "85"
            ]
          },
          "metadata": {},
          "execution_count": 11
        }
      ]
    },
    {
      "cell_type": "code",
      "source": [
        "(paragraphs[0]).text"
      ],
      "metadata": {
        "colab": {
          "base_uri": "https://localhost:8080/",
          "height": 35
        },
        "id": "vUEbwWGDKmk2",
        "outputId": "451ebce8-0097-48d8-de40-12a36bc1d39d"
      },
      "execution_count": null,
      "outputs": [
        {
          "output_type": "execute_result",
          "data": {
            "text/plain": [
              "'China is the top emitter of greenhouse gases in the world, while India comes in at number three.'"
            ],
            "application/vnd.google.colaboratory.intrinsic+json": {
              "type": "string"
            }
          },
          "metadata": {},
          "execution_count": 12
        }
      ]
    },
    {
      "cell_type": "code",
      "source": [
        "for p in paragraphs:\n",
        "  print(p.text)"
      ],
      "metadata": {
        "colab": {
          "base_uri": "https://localhost:8080/"
        },
        "id": "91LT7DODKtTu",
        "outputId": "7a3ecae8-9fcb-414a-9fd0-a25b0b3e0690"
      },
      "execution_count": null,
      "outputs": [
        {
          "output_type": "stream",
          "name": "stdout",
          "text": [
            "China is the top emitter of greenhouse gases in the world, while India comes in at number three.\n",
            "The two countries also have major economies - so why is there a disagreement over whether they should contribute to a fund to tackle the damage caused by climate change?\n",
            "The question remains even after COP28 - this year's United Nations (UN) climate change conference in Dubai - announced a deal between countries to begin the operation of the fund and 18 countries pledged money for it.\n",
            "A report released in 2022 by the Vulnerable 20 Group (V20), which has 68 developing nations as its members, showed that 55 members (the rest joined recently) had lost $525bn (£414.2bn) because of climate change over the last two decades. This was one-fifth of their wealth.\n",
            "China and India are not among these countries but argue that they too have vulnerable communities which will need financial support from such a fund.\n",
            "A 2022 UN report said that by 2030, developing countries would need over $300bn annually to fight climate change. \"Loss and damage finance needs are closely connected to our ability to mitigate and adapt to climate change,\" it added.\n",
            "The fund aims to provide financial assistance to poorer nations that have been hit by climate-related disasters - for example, communities displaced by floods or rising sea levels - so that they can rebuild and be rehabilitated.\n",
            "It is different from climate adaptation funds because loss and damage refer to a situation in which communities can no longer adapt to climatic impacts or prepare for it because the damage has already been done.\n",
            "After years of disagreement between developed and developing countries, the loss and damage fund was established in principle during last year's COP27 in Egypt.\n",
            "The agreement is to begin its operation at COP28. Fifteen developed countries and a developing nation (COP28 host UAE) have made funding pledges totalling to around $660m so far, according to the Natural Resources Defence Council that has been tracking financial pledges at COP28.\n",
            "The US - a developed country and the second largest greenhouse gas emitter in the world - and other developed nations say China and India should join them in not only making significant cuts in emissions for meaningful global climate action, but also contribute to the fund.\n",
            "But China and India disagree, arguing their high levels of emissions are a recent development when compared to the historic emissions of developed countries like the US and the UK.\n",
            "They also claim they are still developing countries, as set out in the UN Framework Convention on Climate Change signed in 1992, and therefore actually qualify to receive the loss and damage fund they are being asked to contribute to.\n",
            "In the year since COP27, counties have had heated debates about how to make the fund work, and finally in October 2023 agreed on a set of recommendations.\n",
            "The recommendations, now approved by COP28, \"urge\" developed countries to support the loss and damage fund, and \"encourage\" others to support it voluntarily.\n",
            "The decision also makes it clear that all developing countries are eligible to apply for funding.\n",
            "But negotiators say the decision has not ended tensions between developed countries and major developing economies like China and India over whether the latter should pay for the fund or they should receive it.\n",
            "\"The sources of finance remain a major contentious issue that has been parked for now,\" said a negotiator, from a country in the West, who asked not to be named.\n",
            "China overtook the US as the largest carbon dioxide (CO2) emitter in 2006.\n",
            "But both China and India argue the climate crisis was caused by developed countries emitting greenhouse gases from as early as the 1850s, when the industrial period began.\n",
            "The two Asian giants also point to the principle of \"common but differentiated responsibilities\" in the United Nations Framework Convention on Climate Change (UNFCCC), which basically means all countries have responsibility to cut greenhouse gas emissions, but their share of responsibility depends on their development needs.\n",
            "Many civil societies and climate campaigners have also supported that same argument.\n",
            "\"The massive losses and damages we are seeing right now are the result of 30 years of largely foot-dragging by developed countries on reducing their emissions faster and providing climate finance to developing countries,\" says Liane Schalatek, associate director at Heinrich Boll Stiftung, a US-based international organisation that closely follows loss and damage negotiations.\n",
            "\"To ask developing countries to contribute to the new fund on an equal footing with developed countries is morally wrong and disingenuous,\" she argued.\n",
            "Developed countries, however, argue the grouping of countries is outdated and needs revising.\n",
            "Countries were labelled as developed and developing back in 1992. Critics say a lot has changed since then, particularly with countries like China and India which are now both major economies and among the top greenhouse gas emitters.\n",
            "And now with the UAE, a developing country in the UNFCCC listing, having pledged $100m for the fund, they say an example has been set.\n",
            "\"We hope not just China and India but also other countries like Saudi Arabia - developing countries according to the 1992 list - will see themselves more as contributors to the fund than recipients,\" an anonymous negotiator from a Western country added.\n",
            "Some small island states also echoed that message.\n",
            "Michai Robertson, lead loss and damage finance negotiator for the Alliance of Small Island States, argues there's a \"moral responsibility to engage with the fund\" that needs to be met by major economies such as China and India.\n",
            "\"Having the words 'encourage other parties to provide fund' in the recommendation is an acknowledgement by the entire committee (including developed and developing countries) that we need beyond developed countries as well and other parties to be involved too.\"\n",
            "But it is not the first time a climate fund has taken a long time to be established.\n",
            "A policy and advocacy officer I spoke to likens the debate over the loss and damage climate fund to a previous climate finance pledge that still hasn't materialised.\n",
            "\"It is unsurprising that many developing countries view this as little more than a delaying tactic, given the decade-long trust deficit which lies at the heart of UN climate negotiations,\" says Ross Fitzpatrick of Christian Aid, a poverty relief organisation.\n",
            "\"The trust deficit is best exemplified by the failure of wealthy nations to deliver on their previous pledge to provide $100bn in annual climate finance beginning in 2020.\"\n",
            "This $100bn climate finance pledge is separate from the loss and damage climate fund, and was made by developed countries during the climate summit in Copenhagen in 2009.\n",
            "As long as that pledge remains unfulfilled, major developing countries will always have an argument for not making any contribution to the loss and damage climate fund, says Aarti Khosla, the director of Climate Trends, a Delhi-based organisation that researches loss and damage negotiations and other climate issues.\n",
            "\"The principles of the convention (the 1992 UN climate convention) make a case for evolving responsibilities, meaning the definition of the 'common but differentiated responsibilities' also changes,\" she says.\n",
            "\"But it is not simple for China and India to pay in the fund without the developed world having lived up to its previous promise.\"\n",
            "BBC News India is now on YouTube. Click here to subscribe and watch our documentaries, explainers and features.\n",
            "Thousands have been evacuated and cars swept away in southern India as Cyclone Michaung approaches.\n",
            "The International Energy Agency thinks peak oil use is in sight this decade as the world switches to renewables. What is driving this shift – and what is still standing in the way?\n",
            "How teachings in Islam, Hinduism and Sikhism have made some British Asians more conscious about climate change.\n",
            "For decades, Native Americans were reliant on the US government to bring them power. Now, that may be changing.\n",
            "The head of the UN climate talks in Dubai says \"everything\" he is doing is centred on science.\n",
            "Copyright 2023 BBC. All rights reserved.  The BBC is not responsible for the content of external sites. Read about our approach to external linking.\n",
            "Beta Terms By using the Beta Site, you agree that such use is at your own risk and you know that the Beta Site may include known or unknown bugs or errors, that we have no obligation to make this Beta Site available with or without charge for any period of time, nor to make it available at all, and that nothing in these Beta Terms or your use of the Beta Site creates any employment relationship between you and us. The Beta Site is provided on an “as is” and “as available” basis and we make no warranty to you of any kind, express or implied.\n",
            "In case of conflict between these Beta Terms and the BBC Terms of Use these Beta Terms shall prevail.\n"
          ]
        }
      ]
    },
    {
      "cell_type": "code",
      "source": [
        "url = \"https://www.bbc.com/news/world-asia-india-67610621\"\n"
      ],
      "metadata": {
        "id": "_dxDwg02RK3z"
      },
      "execution_count": null,
      "outputs": []
    },
    {
      "cell_type": "code",
      "source": [
        "import requests\n",
        "from bs4 import BeautifulSoup\n",
        "import pandas as pd\n",
        "import matplotlib.pyplot as plt\n",
        "response = requests.get(url)\n",
        "if response.status_code == 200:\n",
        "  soup = BeautifulSoup(response.content, 'html.parser')\n",
        "  for element in soup(['script', 'style', 'comment']):\n",
        "        element.extract()\n",
        "        title = soup.title.text"
      ],
      "metadata": {
        "id": "DnLH2QLvSDy-"
      },
      "execution_count": null,
      "outputs": []
    },
    {
      "cell_type": "code",
      "source": [
        "title = soup.title.text\n",
        "paragraphs = [p.text for p in soup.find_all('p')]\n"
      ],
      "metadata": {
        "id": "fN4P_R_BTGD4"
      },
      "execution_count": null,
      "outputs": []
    },
    {
      "cell_type": "code",
      "source": [
        "data = {'Title': [title], 'Paragraphs': ['\\n'.join(paragraphs)]}\n",
        "df = pd.DataFrame(data)\n",
        "print(\"DataFrame Preview:\")\n",
        "display(df)"
      ],
      "metadata": {
        "colab": {
          "base_uri": "https://localhost:8080/",
          "height": 98
        },
        "id": "SU5quzigTwqa",
        "outputId": "c510bd61-eb34-4845-9060-72abeebcda07"
      },
      "execution_count": null,
      "outputs": [
        {
          "output_type": "stream",
          "name": "stdout",
          "text": [
            "DataFrame Preview:\n"
          ]
        },
        {
          "output_type": "display_data",
          "data": {
            "text/plain": [
              "                                               Title  \\\n",
              "0  COP28: Should India and China benefit from a c...   \n",
              "\n",
              "                                          Paragraphs  \n",
              "0  China is the top emitter of greenhouse gases i...  "
            ],
            "text/html": [
              "\n",
              "  <div id=\"df-0f55f026-b822-4155-9c30-4a7e62ba3b6e\" class=\"colab-df-container\">\n",
              "    <div>\n",
              "<style scoped>\n",
              "    .dataframe tbody tr th:only-of-type {\n",
              "        vertical-align: middle;\n",
              "    }\n",
              "\n",
              "    .dataframe tbody tr th {\n",
              "        vertical-align: top;\n",
              "    }\n",
              "\n",
              "    .dataframe thead th {\n",
              "        text-align: right;\n",
              "    }\n",
              "</style>\n",
              "<table border=\"1\" class=\"dataframe\">\n",
              "  <thead>\n",
              "    <tr style=\"text-align: right;\">\n",
              "      <th></th>\n",
              "      <th>Title</th>\n",
              "      <th>Paragraphs</th>\n",
              "    </tr>\n",
              "  </thead>\n",
              "  <tbody>\n",
              "    <tr>\n",
              "      <th>0</th>\n",
              "      <td>COP28: Should India and China benefit from a c...</td>\n",
              "      <td>China is the top emitter of greenhouse gases i...</td>\n",
              "    </tr>\n",
              "  </tbody>\n",
              "</table>\n",
              "</div>\n",
              "    <div class=\"colab-df-buttons\">\n",
              "\n",
              "  <div class=\"colab-df-container\">\n",
              "    <button class=\"colab-df-convert\" onclick=\"convertToInteractive('df-0f55f026-b822-4155-9c30-4a7e62ba3b6e')\"\n",
              "            title=\"Convert this dataframe to an interactive table.\"\n",
              "            style=\"display:none;\">\n",
              "\n",
              "  <svg xmlns=\"http://www.w3.org/2000/svg\" height=\"24px\" viewBox=\"0 -960 960 960\">\n",
              "    <path d=\"M120-120v-720h720v720H120Zm60-500h600v-160H180v160Zm220 220h160v-160H400v160Zm0 220h160v-160H400v160ZM180-400h160v-160H180v160Zm440 0h160v-160H620v160ZM180-180h160v-160H180v160Zm440 0h160v-160H620v160Z\"/>\n",
              "  </svg>\n",
              "    </button>\n",
              "\n",
              "  <style>\n",
              "    .colab-df-container {\n",
              "      display:flex;\n",
              "      gap: 12px;\n",
              "    }\n",
              "\n",
              "    .colab-df-convert {\n",
              "      background-color: #E8F0FE;\n",
              "      border: none;\n",
              "      border-radius: 50%;\n",
              "      cursor: pointer;\n",
              "      display: none;\n",
              "      fill: #1967D2;\n",
              "      height: 32px;\n",
              "      padding: 0 0 0 0;\n",
              "      width: 32px;\n",
              "    }\n",
              "\n",
              "    .colab-df-convert:hover {\n",
              "      background-color: #E2EBFA;\n",
              "      box-shadow: 0px 1px 2px rgba(60, 64, 67, 0.3), 0px 1px 3px 1px rgba(60, 64, 67, 0.15);\n",
              "      fill: #174EA6;\n",
              "    }\n",
              "\n",
              "    .colab-df-buttons div {\n",
              "      margin-bottom: 4px;\n",
              "    }\n",
              "\n",
              "    [theme=dark] .colab-df-convert {\n",
              "      background-color: #3B4455;\n",
              "      fill: #D2E3FC;\n",
              "    }\n",
              "\n",
              "    [theme=dark] .colab-df-convert:hover {\n",
              "      background-color: #434B5C;\n",
              "      box-shadow: 0px 1px 3px 1px rgba(0, 0, 0, 0.15);\n",
              "      filter: drop-shadow(0px 1px 2px rgba(0, 0, 0, 0.3));\n",
              "      fill: #FFFFFF;\n",
              "    }\n",
              "  </style>\n",
              "\n",
              "    <script>\n",
              "      const buttonEl =\n",
              "        document.querySelector('#df-0f55f026-b822-4155-9c30-4a7e62ba3b6e button.colab-df-convert');\n",
              "      buttonEl.style.display =\n",
              "        google.colab.kernel.accessAllowed ? 'block' : 'none';\n",
              "\n",
              "      async function convertToInteractive(key) {\n",
              "        const element = document.querySelector('#df-0f55f026-b822-4155-9c30-4a7e62ba3b6e');\n",
              "        const dataTable =\n",
              "          await google.colab.kernel.invokeFunction('convertToInteractive',\n",
              "                                                    [key], {});\n",
              "        if (!dataTable) return;\n",
              "\n",
              "        const docLinkHtml = 'Like what you see? Visit the ' +\n",
              "          '<a target=\"_blank\" href=https://colab.research.google.com/notebooks/data_table.ipynb>data table notebook</a>'\n",
              "          + ' to learn more about interactive tables.';\n",
              "        element.innerHTML = '';\n",
              "        dataTable['output_type'] = 'display_data';\n",
              "        await google.colab.output.renderOutput(dataTable, element);\n",
              "        const docLink = document.createElement('div');\n",
              "        docLink.innerHTML = docLinkHtml;\n",
              "        element.appendChild(docLink);\n",
              "      }\n",
              "    </script>\n",
              "  </div>\n",
              "\n",
              "    </div>\n",
              "  </div>\n"
            ]
          },
          "metadata": {}
        }
      ]
    },
    {
      "cell_type": "code",
      "source": [
        "paragraph_count = len(paragraphs)"
      ],
      "metadata": {
        "id": "WDc4ezWXUIEd"
      },
      "execution_count": null,
      "outputs": []
    },
    {
      "cell_type": "code",
      "source": [
        "plt.figure(figsize=(8, 5))\n",
        "plt.bar(['Paragraphs'], [paragraph_count], color='skyblue')\n",
        "plt.title('Number of Paragraphs in the Article')\n",
        "plt.xlabel('Content Type')\n",
        "plt.ylabel('Count')\n",
        "plt.show()"
      ],
      "metadata": {
        "colab": {
          "base_uri": "https://localhost:8080/",
          "height": 487
        },
        "id": "zA8ObY54UOS_",
        "outputId": "7f56fc98-4267-4010-e39b-378cbfeca683"
      },
      "execution_count": null,
      "outputs": [
        {
          "output_type": "display_data",
          "data": {
            "text/plain": [
              "<Figure size 800x500 with 1 Axes>"
            ],
            "image/png": "[encoded data removed]"
          },
          "metadata": {}
        }
      ]
    },
    {
      "cell_type": "code",
      "source": [
        "print(\"\\nConclusion:\")\n",
        "print(\"The analysis demonstrates the basic structure of the web page, extracts relevant information, and provides a visualization of the paragraph count.\")"
      ],
      "metadata": {
        "colab": {
          "base_uri": "https://localhost:8080/"
        },
        "id": "JkvYRYWZUgJ8",
        "outputId": "6b305d70-ce16-4763-b8fb-cf6cdd47bac2"
      },
      "execution_count": null,
      "outputs": [
        {
          "output_type": "stream",
          "name": "stdout",
          "text": [
            "\n",
            "Conclusion:\n",
            "The analysis demonstrates the basic structure of the web page, extracts relevant information, and provides a visualization of the paragraph count.\n"
          ]
        }
      ]
    }
  ]
}